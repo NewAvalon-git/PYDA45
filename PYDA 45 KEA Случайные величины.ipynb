{
 "cells": [
  {
   "cell_type": "markdown",
   "id": "29b8f761",
   "metadata": {},
   "source": [
    "# Домашнее задание к лекции «Случайные события. Случайные величины»\n",
    "\n",
    "Смоделировать игру против лотерейного автомата типа “777”. Игрок платит 1 руб., после чего выпадает случайное целое число, равномерно распределенное от 0 до 999. При некоторых значениях числа игрок получает выигрыш.\n",
    "\n",
    "777: 200 руб.\n",
    "<br>999: 100 руб.\n",
    "<br>555: 50 руб.\n",
    "<br>333: 15 руб.\n",
    "<br>111: 10 руб.\n",
    "<br>*77: 5 руб.\n",
    "<br>**7: 3 руб.\n",
    "<br>*00: 2 руб.\n",
    "<br>**0: 1 руб.\n",
    "\n",
    "Вопросы:\n",
    "\n",
    "Выгодна ли игра игроку?\n",
    "Сколько в среднем приобретает или теряет игрок за одну игру?\n",
    "\n",
    "**Дополнительное задание повышенной сложности.**\n",
    "\n",
    "Теоретически рассчитать средний выигрыш (проигрыш) и сравнить с результатами моделирования\n",
    "\n",
    "– любая цифра"
   ]
  },
  {
   "cell_type": "markdown",
   "id": "eee7985d",
   "metadata": {},
   "source": [
    "## Решение 1. Эксперимент"
   ]
  },
  {
   "cell_type": "code",
   "execution_count": 421,
   "id": "4c84176b",
   "metadata": {},
   "outputs": [],
   "source": [
    "import numpy as np"
   ]
  },
  {
   "cell_type": "code",
   "execution_count": 422,
   "id": "bfaeccbe",
   "metadata": {},
   "outputs": [],
   "source": [
    "# преднастройка выигрышных слотов\n",
    "win_slots = {\n",
    "            '777': 200,\n",
    "            '999': 100,\n",
    "            '555': 50,\n",
    "            '333': 15,\n",
    "            '111': 10,\n",
    "            '77': 5,\n",
    "            '7': 3,\n",
    "            '00': 2,\n",
    "            '0': 1\n",
    "}"
   ]
  },
  {
   "cell_type": "markdown",
   "id": "a95bf323",
   "metadata": {},
   "source": [
    "Определять выигрышность конкретного случая будем через отдельную функцию"
   ]
  },
  {
   "cell_type": "code",
   "execution_count": 423,
   "id": "360b910c",
   "metadata": {},
   "outputs": [],
   "source": [
    "def win_check(attempt_value, win_slots):\n",
    "    '''\n",
    "    Возвращает сумму выигрыша\n",
    "    \n",
    "    attempt_value - сколько выпало\n",
    "    win_slots - преднастроеный списко выигрышных комбинаций\n",
    "    '''\n",
    "    win_res = 0\n",
    "\n",
    "    if attempt_value == 0:\n",
    "        win_res = win_slots['00']\n",
    "    \n",
    "    elif str(attempt_value) in win_slots.keys():\n",
    "        win_res = win_slots[str(attempt_value)]\n",
    "            \n",
    "\n",
    "    elif attempt_value % 100 == 77:\n",
    "        win_res = win_slots['77']\n",
    "    elif attempt_value % 10 == 7: \n",
    "        win_res = win_slots['7']\n",
    "\n",
    "    elif (\n",
    "            attempt_value % 100 == 0 and\n",
    "            attempt_value % 10 == 0\n",
    "    ):\n",
    "        win_res = win_slots['00']\n",
    "    elif attempt_value % 10 == 0: \n",
    "        win_res = win_slots['0']\n",
    "\n",
    "    else:\n",
    "        win_res == 0\n",
    "        \n",
    "    return win_res\n",
    "\n",
    "# win_check(0, win_slots)\n",
    "# # win_slots['77']"
   ]
  },
  {
   "cell_type": "markdown",
   "id": "f1ef173e",
   "metadata": {},
   "source": [
    "Тестирование определителя выигрыша"
   ]
  },
  {
   "cell_type": "code",
   "execution_count": 424,
   "id": "8094aa15",
   "metadata": {},
   "outputs": [],
   "source": [
    "# используется для тестовых целей\n",
    "test_slots = {\n",
    "    '777': 200,\n",
    "    '999': 100,\n",
    "    '555': 50,\n",
    "    '333': 15,\n",
    "    '111': 10,\n",
    "    '177': 5, '077': 5,\n",
    "    '127': 3, '007': 3,\n",
    "    '300': 2, '000': 2,\n",
    "    '230': 1, '010': 1\n",
    "}"
   ]
  },
  {
   "cell_type": "code",
   "execution_count": 425,
   "id": "28542a0a",
   "metadata": {},
   "outputs": [
    {
     "name": "stdout",
     "output_type": "stream",
     "text": [
      "1 777 200\n",
      "2 999 100\n",
      "3 555 50\n",
      "4 333 15\n",
      "5 111 10\n",
      "6 177 5\n",
      "7 077 5\n",
      "8 127 3\n",
      "9 007 3\n",
      "10 300 2\n",
      "11 000 2\n",
      "12 230 1\n",
      "13 010 1\n",
      "Всего тестов: 13\n"
     ]
    }
   ],
   "source": [
    "# тест работы определителя\n",
    "count = 1\n",
    "for key, win in test_slots.items():\n",
    "    print(count, key, win_check(int(key), win_slots))\n",
    "    count += 1\n",
    "\n",
    "print('Всего тестов:', len(test_slots))"
   ]
  },
  {
   "cell_type": "markdown",
   "id": "91bfc464",
   "metadata": {},
   "source": [
    "*все нормально, тестовые примеры определились корректно, включая \"000\"*"
   ]
  },
  {
   "cell_type": "markdown",
   "id": "29875c92",
   "metadata": {},
   "source": [
    "### Постановка эксперимента"
   ]
  },
  {
   "cell_type": "markdown",
   "id": "e69fb158",
   "metadata": {},
   "source": [
    "* Выгодна ли игра игроку? \n",
    "* Сколько в среднем приобретает или теряет игрок за одну игру?"
   ]
  },
  {
   "cell_type": "code",
   "execution_count": 426,
   "id": "a3b0b3cd",
   "metadata": {},
   "outputs": [
    {
     "name": "stdout",
     "output_type": "stream",
     "text": [
      "795173 1000000 -204827 -0.204827\n",
      "Средний проигрыш (-), выигрыш(+) составляет: -0.2048\n"
     ]
    }
   ],
   "source": [
    "# Количество игра - попыток\n",
    "attempts_qty = 10**6\n",
    "\n",
    "# счетчики - накопители\n",
    "total_win = 0\n",
    "total_spent = 0\n",
    "clear_win = 0\n",
    "\n",
    "one_bet = 1 # Игрок платит 1 руб.\n",
    "\n",
    "# эксперимент\n",
    "for attempt in range(1, attempts_qty + 1):\n",
    "\n",
    "    attempt_res = np.random.randint(0, 1000)\n",
    "\n",
    "    win_res = win_check(attempt_res, win_slots)\n",
    "    \n",
    "    if win_res > 0:\n",
    "        total_win += win_res\n",
    "\n",
    "    total_spent += one_bet \n",
    "    \n",
    "    clear_win = total_win - total_spent\n",
    "    avg_win_loss = clear_win / attempts_qty\n",
    "\n",
    "    \n",
    "print(total_win, total_spent, clear_win, avg_win_loss)\n",
    "print('Средний проигрыш (-), выигрыш(+) составляет:', round(avg_win_loss, 4))"
   ]
  },
  {
   "cell_type": "markdown",
   "id": "79e89ff1",
   "metadata": {},
   "source": [
    "### Ответы\n",
    "1) Игра не выгодная, в большинстве экспериментов на 1 млн попыток ИТОГО = минус (на 1 тыс попыток иногда попадается ПЛЮС)\n",
    "2) Средний проигрыш за одну игру составляет 20 копеек"
   ]
  },
  {
   "cell_type": "markdown",
   "id": "9f016cf4",
   "metadata": {},
   "source": [
    "## Решение 2. Теоретический расчет"
   ]
  },
  {
   "cell_type": "markdown",
   "id": "146b29af",
   "metadata": {},
   "source": [
    "* Для решения необходимо рассчитать М - матожидание.\n",
    "* Результат теоретического расчета должен быть близок в экспериментальному"
   ]
  },
  {
   "cell_type": "markdown",
   "id": "046440cd",
   "metadata": {},
   "source": [
    "M = сумма всех положительных и отрицательных исходов: вероятность * на их доход (выиграл - потратил) "
   ]
  },
  {
   "cell_type": "code",
   "execution_count": 427,
   "id": "e933f66a",
   "metadata": {},
   "outputs": [
    {
     "data": {
      "text/plain": [
       "{'777': 200,\n",
       " '999': 100,\n",
       " '555': 50,\n",
       " '333': 15,\n",
       " '111': 10,\n",
       " '77': 5,\n",
       " '7': 3,\n",
       " '00': 2,\n",
       " '0': 1}"
      ]
     },
     "execution_count": 427,
     "metadata": {},
     "output_type": "execute_result"
    }
   ],
   "source": [
    "win_slots"
   ]
  },
  {
   "cell_type": "markdown",
   "id": "9633bcfd",
   "metadata": {},
   "source": [
    "**Расчет количества каждого исхода**"
   ]
  },
  {
   "cell_type": "code",
   "execution_count": 428,
   "id": "7148d1c7",
   "metadata": {},
   "outputs": [
    {
     "name": "stdout",
     "output_type": "stream",
     "text": [
      "Сколько раз встречается комбинация в Range(1000):\n"
     ]
    },
    {
     "data": {
      "text/plain": [
       "{'777': 1,\n",
       " '999': 1,\n",
       " '555': 1,\n",
       " '333': 1,\n",
       " '111': 1,\n",
       " '77': 9,\n",
       " '7': 90,\n",
       " '00': 10,\n",
       " '0': 90}"
      ]
     },
     "metadata": {},
     "output_type": "display_data"
    },
    {
     "name": "stdout",
     "output_type": "stream",
     "text": [
      "Всего выигрышных: 204\n",
      "Проигрышных: 796\n",
      "Из: 1000\n"
     ]
    }
   ],
   "source": [
    "full_range = range(0, 1000) #0 - 999\n",
    "len_full_range = len(full_range)\n",
    "win_keys = list(win_slots.keys())\n",
    "\n",
    "# Расчет количества выигрышей, подготовка для расчета вероятностей\n",
    "q777_200 = 1\n",
    "q999_100 = 1\n",
    "q555_50 = 1\n",
    "q333_15 = 1\n",
    "q111_10 = 1\n",
    "\n",
    "q77_5_count = 0\n",
    "q7_3_count = 0\n",
    "q00_2_count = 0\n",
    "q0_1_count = 0\n",
    "\n",
    "for i in full_range:\n",
    "\n",
    "    if i == 0:\n",
    "        q00_2_count += 1\n",
    "    \n",
    "    elif i % 100 == 77:\n",
    "        q77_5_count += 1\n",
    "    elif i % 10 == 7: \n",
    "        q7_3_count += 1\n",
    "\n",
    "    elif (\n",
    "            i % 100 == 0 and\n",
    "            i % 10 == 0\n",
    "    ):\n",
    "        q00_2_count += 1\n",
    "        \n",
    "    elif i % 10 == 0: \n",
    "        q0_1_count += 1\n",
    "\n",
    "# обработка комбинации 777 - надо уменьшить количество \"*77\" на одну комбинацию \n",
    "q77_5_count -= q777_200\n",
    "        \n",
    "qty_win_list = [\n",
    "        q777_200,\n",
    "        q999_100,\n",
    "        q555_50,\n",
    "        q333_15,\n",
    "        q111_10,\n",
    "        q77_5_count,\n",
    "        q7_3_count,\n",
    "        q00_2_count,\n",
    "        q0_1_count\n",
    "]\n",
    "\n",
    "# И количество проигрышных комбинация\n",
    "q_loss = len_full_range - sum(qty_win_list)\n",
    "\n",
    "qty_win_dict = dict(zip(win_keys, qty_win_list))\n",
    "print(\"Сколько раз встречается комбинация в Range(1000):\")\n",
    "display(qty_win_dict)\n",
    "print('Всего выигрышных: {0}\\nПроигрышных: {1}\\nИз: {2}'\n",
    "      .format(\n",
    "          sum(qty_win_dict.values()), \n",
    "          q_loss, \n",
    "          sum(qty_win_dict.values()) + q_loss)\n",
    "     )"
   ]
  },
  {
   "cell_type": "markdown",
   "id": "8a0b1202",
   "metadata": {},
   "source": [
    "**Расчет матожидания и проверка эксперимента**"
   ]
  },
  {
   "cell_type": "code",
   "execution_count": 429,
   "id": "3d1fd051",
   "metadata": {},
   "outputs": [
    {
     "name": "stdout",
     "output_type": "stream",
     "text": [
      "М для каждого шага\n",
      "Комб-я / Кол-во / из ВСЕГО / разовый выигрыш / вероятная сумма\n",
      "777 1 1000 200 P= 0.2\n",
      "999 1 1000 100 P= 0.1\n",
      "555 1 1000 50 P= 0.05\n",
      "333 1 1000 15 P= 0.015\n",
      "111 1 1000 10 P= 0.01\n",
      "77 9 1000 5 P= 0.045\n",
      "7 90 1000 3 P= 0.27\n",
      "00 10 1000 2 P= 0.02\n",
      "0 90 1000 1 P= 0.09\n"
     ]
    }
   ],
   "source": [
    "M = 0\n",
    "print('М для каждого шага')\n",
    "print('Комб-я / Кол-во / из ВСЕГО / разовый выигрыш / вероятная сумма')\n",
    "for key, el in qty_win_dict.items():\n",
    "    print(key, el, len_full_range, win_slots[key], 'P=', (el / len_full_range) * win_slots[key])\n",
    "    M += (el / len_full_range) * (win_slots[key] - one_bet)\n",
    "\n",
    "M += (q_loss / len_full_range) * (-one_bet)"
   ]
  },
  {
   "cell_type": "markdown",
   "id": "8e38ee91",
   "metadata": {},
   "source": [
    "## 3. Сверка Эксперимента и Теории"
   ]
  },
  {
   "cell_type": "code",
   "execution_count": 430,
   "id": "2294d202",
   "metadata": {},
   "outputs": [
    {
     "name": "stdout",
     "output_type": "stream",
     "text": [
      "\n",
      "\n",
      "Средний проигрыш (-), выигрыш(+) составляет:\n",
      "1 - Экспериментально (\"сыграли\" {1} раз) -0.2048\n",
      "2 - Теоретический расчет (М = матожидание) -0.2\n"
     ]
    }
   ],
   "source": [
    "print('\\n')\n",
    "print('Средний проигрыш (-), выигрыш(+) составляет:')\n",
    "print('1 - Экспериментально (\"сыграли\" {1} раз)', round(avg_win_loss, 4))\n",
    "print('2 - Теоретический расчет (М = матожидание)', round(M, 4))"
   ]
  },
  {
   "cell_type": "markdown",
   "id": "bc548734",
   "metadata": {},
   "source": [
    "**Данные эксперимента подтверждены теоретическим расчетом**"
   ]
  }
 ],
 "metadata": {
  "kernelspec": {
   "display_name": "Python 3 (ipykernel)",
   "language": "python",
   "name": "python3"
  },
  "language_info": {
   "codemirror_mode": {
    "name": "ipython",
    "version": 3
   },
   "file_extension": ".py",
   "mimetype": "text/x-python",
   "name": "python",
   "nbconvert_exporter": "python",
   "pygments_lexer": "ipython3",
   "version": "3.10.9"
  }
 },
 "nbformat": 4,
 "nbformat_minor": 5
}
